{
  "nbformat": 4,
  "nbformat_minor": 0,
  "metadata": {
    "colab": {
      "provenance": [],
      "authorship_tag": "ABX9TyPg8zhz4cMeIiVP54ycG1Jz",
      "include_colab_link": true
    },
    "kernelspec": {
      "name": "python3",
      "display_name": "Python 3"
    },
    "language_info": {
      "name": "python"
    }
  },
  "cells": [
    {
      "cell_type": "markdown",
      "metadata": {
        "id": "view-in-github",
        "colab_type": "text"
      },
      "source": [
        "<a href=\"https://colab.research.google.com/github/webrockerz2020/waste_classifcation_traditional_machine_learning/blob/main/waste_classification_using_ml.ipynb\" target=\"_parent\"><img src=\"https://colab.research.google.com/assets/colab-badge.svg\" alt=\"Open In Colab\"/></a>"
      ]
    },
    {
      "cell_type": "code",
      "execution_count": 1,
      "metadata": {
        "colab": {
          "base_uri": "https://localhost:8080/"
        },
        "id": "rAcqKkHFIhsb",
        "outputId": "7695e627-1d74-4aa3-8f84-b457e4fb6b18"
      },
      "outputs": [
        {
          "output_type": "stream",
          "name": "stdout",
          "text": [
            "Drive already mounted at /content/drive/; to attempt to forcibly remount, call drive.mount(\"/content/drive/\", force_remount=True).\n"
          ]
        }
      ],
      "source": [
        "import os\n",
        "import numpy as np\n",
        "import pandas as pd\n",
        "import cv2 as cv\n",
        "from pathlib import Path\n",
        "import warnings\n",
        "from skimage.feature import hog\n",
        "import tqdm\n",
        "from tqdm import tqdm\n",
        "import threading\n",
        "from multiprocessing import Pool\n",
        "import matplotlib.pyplot as plt\n",
        "import math\n",
        "warnings.filterwarnings(\"ignore\")\n",
        "pd.options.display.max_columns = None\n",
        "#Connecting the driver\n",
        "from google.colab import drive\n",
        "drive.mount('/content/drive/')"
      ]
    },
    {
      "cell_type": "code",
      "source": [
        "# Setting all the directories\n",
        "\n",
        "root = '/content/drive/MyDrive/ML/data'\n",
        "#style_file = 'styles.csv'\n",
        "image_folder_train = root + '/train/'\n",
        "image_folder_train_o =image_folder_train + 'O/'\n",
        "image_folder_train_r =image_folder_train + 'R/'"
      ],
      "metadata": {
        "id": "uzwOyDt1InGv"
      },
      "execution_count": 2,
      "outputs": []
    },
    {
      "cell_type": "code",
      "source": [
        "# Feature Engineering using HoG\n",
        "def get_all_image_names_and_its_class_to_df(folder_name):\n",
        "    #print(folder_name)\n",
        "    df_local=pd.DataFrame(columns=['id','masterCategory'])\n",
        "    for folder in os.listdir(folder_name):\n",
        "      #print(folder)\n",
        "      if folder != '.DS_Store':\n",
        "            folder_path =os.path.join(folder_name,folder)\n",
        "            #print(folder_path)\n",
        "            temp_df=pd.DataFrame(columns=['id','masterCategory'])\n",
        "            img_list=[]\n",
        "            for img in os.listdir(folder_path):\n",
        "                img_list.append(img)\n",
        "            #print(folder)\n",
        "            temp_df['id'] =img_list\n",
        "            temp_df['masterCategory']= folder\n",
        "            #print(temp_df)\n",
        "            df_local = pd.concat([df_local, temp_df], ignore_index=True)\n",
        "    return df_local\n",
        "\n",
        "# Loading the images\n",
        "def load_image(ids, path):\n",
        "    img = cv.imread(path + ids, cv.IMREAD_GRAYSCALE)\n",
        "    return img, ids\n",
        "\n",
        "def process_image(id_path_tuple):\n",
        "    id, path = id_path_tuple\n",
        "    img, id = load_image(id, path)\n",
        "    if img is not None:\n",
        "        return [img, id]\n",
        "\n",
        "# resizing of images\n",
        "def resize_image(img,ids):\n",
        "    return cv.resize(img, (60, 80),interpolation =cv.INTER_LINEAR) # Tired with 60,80 # tired 60,60 # tired 100 by 100 system crash\n",
        "\n",
        "#bluring the images\n",
        "def hog_to_blur_the_images(image):\n",
        "    ppcr = 8 # tired with 8\n",
        "    ppcc = 8 # Tired with 8\n",
        "    blur = cv.GaussianBlur(image, (7, 7), 0) #kernal size 5 checked , # larger kernel more blur\n",
        "    fd, hog_image = hog(blur, orientations=5, pixels_per_cell=(ppcr, ppcc), cells_per_block=(2, 2), block_norm='L2', visualize=True)\n",
        "    return hog_image, fd\n",
        "\n",
        "#get the edges\n",
        "def get_edges(img_list,n_sample):\n",
        "  edges = [cv.Canny(image,50,150,apertureSize = 3) for image in img_list]\n",
        "    #edges = [cv.Canny(image, 30, 90, apertureSize=3) for image in img_lst]\n",
        "\n",
        "  edges = np.array(edges)\n",
        "  #print(edges)\n",
        "  n_samples_edges = len(edges)\n",
        "  edge_images_train = edges.reshape((n_samples, -1))\n",
        "  edge_images_train.shape\n",
        "\n"
      ],
      "metadata": {
        "id": "gRsNYXHqI4In"
      },
      "execution_count": 3,
      "outputs": []
    },
    {
      "cell_type": "code",
      "source": [
        "# Loading all the images\n",
        "df_train = get_all_image_names_and_its_class_to_df(image_folder_train)\n",
        "print(df_train.shape)\n",
        "print(df_train.head(10))\n",
        "print(df_train['masterCategory'].value_counts())"
      ],
      "metadata": {
        "colab": {
          "base_uri": "https://localhost:8080/"
        },
        "id": "8WV0DJApJBgA",
        "outputId": "cc1c898d-5dc6-4e47-dc3c-803c203df349"
      },
      "execution_count": 4,
      "outputs": [
        {
          "output_type": "stream",
          "name": "stdout",
          "text": [
            "(25077, 2)\n",
            "            id masterCategory\n",
            "0  O_13532.jpg              O\n",
            "1  O_13491.jpg              O\n",
            "2  O_12957.jpg              O\n",
            "3  O_12638.jpg              O\n",
            "4  O_13042.jpg              O\n",
            "5  O_13724.jpg              O\n",
            "6  O_13095.jpg              O\n",
            "7  O_13081.jpg              O\n",
            "8  O_13917.jpg              O\n",
            "9  O_12823.jpg              O\n",
            "<bound method DataFrame.value_counts of                 id masterCategory\n",
            "0      O_13532.jpg              O\n",
            "1      O_13491.jpg              O\n",
            "2      O_12957.jpg              O\n",
            "3      O_12638.jpg              O\n",
            "4      O_13042.jpg              O\n",
            "...            ...            ...\n",
            "25072  R_10238.jpg              R\n",
            "25073  R_10056.jpg              R\n",
            "25074  R_10123.jpg              R\n",
            "25075  R_10121.jpg              R\n",
            "25076  R_10208.jpg              R\n",
            "\n",
            "[25077 rows x 2 columns]>\n"
          ]
        }
      ]
    },
    {
      "cell_type": "code",
      "source": [
        "# Mulitprocessing 1\n",
        "def create_a_multiprocessing(folder_name,df):\n",
        "    df_ids = list(df.id)\n",
        "    # Create a list of (id, path) tuples\n",
        "    id_path_tuples = [(id, folder_name) for id in df_ids]\n",
        "    # Create a multiprocessing pool\n",
        "    pool = Pool(processes=8)\n",
        "    # Process images in parallel\n",
        "    results = list(tqdm(pool.imap(process_image, id_path_tuples), total=len(df_ids)))\n",
        "    # Close the pool\n",
        "    pool.close()\n",
        "    pool.join()\n",
        "    images= [result for result in results if result is not None]\n",
        "    len(images)\n",
        "    return images"
      ],
      "metadata": {
        "id": "mVx_K75gJL0V"
      },
      "execution_count": 7,
      "outputs": []
    },
    {
      "cell_type": "code",
      "source": [
        "train_images_o =create_a_multiprocessing(image_folder_train_o,df_train)\n",
        "train_images_r =create_a_multiprocessing(image_folder_train_r,df_train)\n",
        "all_train_images = train_images_o+train_images_r\n",
        "print(\"Length of train images\",len(all_train_images))"
      ],
      "metadata": {
        "colab": {
          "base_uri": "https://localhost:8080/"
        },
        "id": "SfcoeU9CLdbd",
        "outputId": "02239cd2-c498-43ef-9d99-0f883d39d933"
      },
      "execution_count": 8,
      "outputs": [
        {
          "output_type": "stream",
          "name": "stderr",
          "text": [
            "100%|██████████| 25077/25077 [09:26<00:00, 44.29it/s]  \n",
            "100%|██████████| 25077/25077 [07:41<00:00, 54.29it/s]"
          ]
        },
        {
          "output_type": "stream",
          "name": "stdout",
          "text": [
            "Length of train images 25077\n"
          ]
        },
        {
          "output_type": "stream",
          "name": "stderr",
          "text": [
            "\n"
          ]
        }
      ]
    },
    {
      "cell_type": "code",
      "source": [
        "all_images_resized_train = [[resize_image(x,y),y] for x,y in all_train_images]\n",
        "df_labels_train = pd.DataFrame(all_images_resized_train,columns=['image','id'])\n"
      ],
      "metadata": {
        "id": "Y99-aj2CL03w"
      },
      "execution_count": 10,
      "outputs": []
    },
    {
      "cell_type": "code",
      "source": [
        "# Adding all the labels\n",
        "target = 'masterCategory'\n",
        "df_labels_train = pd.merge(df_labels_train,df_train,how='left',on=['id'])\n",
        "df_labels_train = df_labels_train.fillna('Others')\n",
        "df_labels_train['class'] = pd.factorize(df_labels_train[target])[0]\n",
        "print(\"Data Shape: \", str(df_labels_train.shape))\n",
        "print(df_labels_train[target].value_counts())"
      ],
      "metadata": {
        "colab": {
          "base_uri": "https://localhost:8080/"
        },
        "id": "4BkySq0aP5wx",
        "outputId": "47c2b88c-a20f-4ef8-8432-fcd7fc69508a"
      },
      "execution_count": 12,
      "outputs": [
        {
          "output_type": "stream",
          "name": "stdout",
          "text": [
            "Data Shape:  (25077, 4)\n",
            "O    13966\n",
            "R    11111\n",
            "Name: masterCategory, dtype: int64\n"
          ]
        }
      ]
    },
    {
      "cell_type": "code",
      "source": [
        "train_images = np.stack(df_labels_train.image.values,axis=0)\n",
        "n_samples_train = len(train_images)\n",
        "print(n_samples_train)\n",
        "data_images_train = train_images.reshape((n_samples_train, -1))"
      ],
      "metadata": {
        "colab": {
          "base_uri": "https://localhost:8080/"
        },
        "id": "kmlsOtEUQDi5",
        "outputId": "5f4f05e4-2b2f-4898-8764-ca4b40a4248f"
      },
      "execution_count": 13,
      "outputs": [
        {
          "output_type": "stream",
          "name": "stdout",
          "text": [
            "25077\n"
          ]
        }
      ]
    },
    {
      "cell_type": "code",
      "source": [
        "# Multiprocessing 2\n",
        "def create_a_multiprocessing_blur(image_lst):\n",
        "    pool = Pool(processes=5)\n",
        "    hog_images, hog_features = zip(*pool.map(hog_to_blur_the_images, image_lst))\n",
        "    pool.close()\n",
        "    pool.join()\n",
        "\n",
        "    hog_features = np.array(hog_features)\n",
        "    return hog_images, hog_features"
      ],
      "metadata": {
        "id": "nSRPd4cUQM4W"
      },
      "execution_count": 14,
      "outputs": []
    },
    {
      "cell_type": "code",
      "source": [
        "hog_images_train, hog_features_train = create_a_multiprocessing_blur(train_images)"
      ],
      "metadata": {
        "id": "cd43Pgv9QT-u"
      },
      "execution_count": 15,
      "outputs": []
    },
    {
      "cell_type": "code",
      "source": [
        "for img in hog_images_train[:2]:\n",
        "    plt.imshow(img)\n",
        "    plt.show()"
      ],
      "metadata": {
        "colab": {
          "base_uri": "https://localhost:8080/",
          "height": 849
        },
        "id": "qq-RFRM0QWZC",
        "outputId": "7f2fb384-4cd8-43fa-86f8-f6844d6aa43f"
      },
      "execution_count": 17,
      "outputs": [
        {
          "output_type": "display_data",
          "data": {
            "text/plain": [
              "<Figure size 640x480 with 1 Axes>"
            ],
            "image/png": "[encoded data removed]"
          },
          "metadata": {}
        },
        {
          "output_type": "display_data",
          "data": {
            "text/plain": [
              "<Figure size 640x480 with 1 Axes>"
            ],
            "image/png": "[encoded data removed]"
          },
          "metadata": {}
        }
      ]
    },
    {
      "cell_type": "code",
      "source": [
        "def get_edges(img_lst,n_samples):\n",
        "  edges = [cv.Canny(image,50,150,aperture = 3) for image in img_lst]\n",
        "  #edges = [cv.Canny(image, 30, 90, apertureSize=3) for image in img_lst]\n",
        "\n",
        "  edges = np.array(edges)\n",
        "  #print(edges)\n",
        "  n_samples_edges = len(edges)\n",
        "  edge_images = edges.reshape((n_samples, -1))\n",
        "  edge_images.shape\n",
        "  return edge_images"
      ],
      "metadata": {
        "id": "035VYA75RL2S"
      },
      "execution_count": 18,
      "outputs": []
    },
    {
      "cell_type": "code",
      "source": [
        "train_images.shape\n"
      ],
      "metadata": {
        "colab": {
          "base_uri": "https://localhost:8080/"
        },
        "id": "VZut55GCRUyj",
        "outputId": "f30ef518-e227-479c-a0ce-06e226697cad"
      },
      "execution_count": 19,
      "outputs": [
        {
          "output_type": "execute_result",
          "data": {
            "text/plain": [
              "(25077, 80, 60)"
            ]
          },
          "metadata": {},
          "execution_count": 19
        }
      ]
    },
    {
      "cell_type": "code",
      "source": [
        "edges = [cv.Canny(image,50,150,apertureSize = 3) for image in train_images]\n",
        "  #edges = [cv.Canny(image, 30, 90, apertureSize=3) for image in img_lst]\n",
        "\n",
        "edges = np.array(edges)\n",
        "#print(edges)\n",
        "n_samples_edges = len(edges)\n",
        "edge_images_train = edges.reshape((n_samples_train, -1))\n",
        "edge_images_train.shape"
      ],
      "metadata": {
        "colab": {
          "base_uri": "https://localhost:8080/"
        },
        "id": "2trPgSadRXW-",
        "outputId": "43d55f75-d179-450f-fac1-c3e1c87ac4f6"
      },
      "execution_count": 42,
      "outputs": [
        {
          "output_type": "execute_result",
          "data": {
            "text/plain": [
              "(25077, 4800)"
            ]
          },
          "metadata": {},
          "execution_count": 42
        }
      ]
    },
    {
      "cell_type": "code",
      "source": [
        "train_images.shape, hog_features_train.shape, edge_images_train.shape\n"
      ],
      "metadata": {
        "colab": {
          "base_uri": "https://localhost:8080/"
        },
        "id": "8HZmvF36RZuD",
        "outputId": "ae272e7c-1bf5-4fe0-f7bf-cf8b3a94ef5c"
      },
      "execution_count": 21,
      "outputs": [
        {
          "output_type": "execute_result",
          "data": {
            "text/plain": [
              "((25077, 80, 60), (25077, 1080), (25077, 4800))"
            ]
          },
          "metadata": {},
          "execution_count": 21
        }
      ]
    },
    {
      "cell_type": "code",
      "source": [
        "edge_hog_train = np.hstack([hog_features_train,edge_images_train])\n",
        "edge_hog_train.shape"
      ],
      "metadata": {
        "colab": {
          "base_uri": "https://localhost:8080/"
        },
        "id": "mJ2rNLssReQg",
        "outputId": "14e5cdcb-9a14-41b4-e137-9346468de8ff"
      },
      "execution_count": 22,
      "outputs": [
        {
          "output_type": "execute_result",
          "data": {
            "text/plain": [
              "(25077, 5880)"
            ]
          },
          "metadata": {},
          "execution_count": 22
        }
      ]
    },
    {
      "cell_type": "code",
      "source": [
        "histr_train = [cv.calcHist([img],[0],None,[256],[0,256]) for img in train_images]\n",
        "histr_train = np.array(histr_train)\n",
        "n_samples_histr_train = len(histr_train)\n",
        "image_hist_train = histr_train.reshape((n_samples_histr_train, -1))\n",
        "image_hist_train.shape\n"
      ],
      "metadata": {
        "colab": {
          "base_uri": "https://localhost:8080/"
        },
        "id": "IkAmu3HSRg7t",
        "outputId": "0c87bcc5-e27e-4ae3-b948-fc6b3859e3d0"
      },
      "execution_count": 23,
      "outputs": [
        {
          "output_type": "execute_result",
          "data": {
            "text/plain": [
              "(25077, 256)"
            ]
          },
          "metadata": {},
          "execution_count": 23
        }
      ]
    },
    {
      "cell_type": "code",
      "source": [
        "# Models\n",
        "from sklearn.model_selection import train_test_split\n",
        "X_train, X_test, y_train, y_test = train_test_split(hog_features_train, df_train['masterCategory'], test_size=0.3, random_state=42)"
      ],
      "metadata": {
        "id": "hQ7Rxn2KRjlJ"
      },
      "execution_count": 25,
      "outputs": []
    },
    {
      "cell_type": "code",
      "source": [
        "print(X_train.shape, y_train.shape)\n",
        "print(X_test.shape, y_test.shape)"
      ],
      "metadata": {
        "colab": {
          "base_uri": "https://localhost:8080/"
        },
        "id": "HOoAbp4URyzp",
        "outputId": "99262bbf-3787-42ba-c4fa-7b83c68aea24"
      },
      "execution_count": 27,
      "outputs": [
        {
          "output_type": "stream",
          "name": "stdout",
          "text": [
            "(17553, 1080) (17553,)\n",
            "(7524, 1080) (7524,)\n"
          ]
        }
      ]
    },
    {
      "cell_type": "code",
      "source": [
        "y_train.value_counts()"
      ],
      "metadata": {
        "colab": {
          "base_uri": "https://localhost:8080/"
        },
        "id": "ypBmd3CRSHPF",
        "outputId": "132b0232-1bfc-4394-b470-c392990b5517"
      },
      "execution_count": 30,
      "outputs": [
        {
          "output_type": "execute_result",
          "data": {
            "text/plain": [
              "O    9774\n",
              "R    7779\n",
              "Name: masterCategory, dtype: int64"
            ]
          },
          "metadata": {},
          "execution_count": 30
        }
      ]
    },
    {
      "cell_type": "code",
      "source": [
        "#KNN\n",
        "from sklearn import datasets, svm, metrics\n",
        "from sklearn.neighbors import KNeighborsClassifier\n",
        "from sklearn import metrics"
      ],
      "metadata": {
        "id": "t3TOABlFSYPj"
      },
      "execution_count": 31,
      "outputs": []
    },
    {
      "cell_type": "code",
      "source": [
        "from sklearn.preprocessing import StandardScaler\n",
        "#from sklearn.ensemble import RandomForestClassifier\n",
        "\n",
        "test_accuracy = []\n",
        "scaler = StandardScaler()\n",
        "X_scaled = scaler.fit_transform(X_train)\n",
        "\n",
        "for i in range(3,10):\n",
        "  print(i)\n",
        "  classifier = KNeighborsClassifier(n_neighbors=i,algorithm='brute')\n",
        "  classifier.fit(X_scaled, y_train)\n",
        "  test_accuracy = classifier.score(scaler.transform(X_test), y_test)\n",
        "  print(test_accuracy)"
      ],
      "metadata": {
        "colab": {
          "base_uri": "https://localhost:8080/"
        },
        "id": "RsLP-X8sSgIq",
        "outputId": "7fe8f183-7426-4c58-8af0-e5288dc4b169"
      },
      "execution_count": 33,
      "outputs": [
        {
          "output_type": "stream",
          "name": "stdout",
          "text": [
            "3\n",
            "0.7076023391812866\n",
            "4\n",
            "0.7161084529505582\n",
            "5\n",
            "0.7177033492822966\n",
            "6\n",
            "0.7252791068580542\n",
            "7\n",
            "0.7259436469962786\n",
            "8\n",
            "0.7290005316321105\n",
            "9\n",
            "0.7292663476874003\n"
          ]
        }
      ]
    },
    {
      "cell_type": "code",
      "source": [
        "for i in range(10,15):\n",
        "  print(i)\n",
        "  classifier = KNeighborsClassifier(n_neighbors=i,algorithm='brute')\n",
        "  classifier.fit(X_scaled, y_train)\n",
        "  test_accuracy = classifier.score(scaler.transform(X_test), y_test)\n",
        "  print(test_accuracy)"
      ],
      "metadata": {
        "colab": {
          "base_uri": "https://localhost:8080/"
        },
        "id": "Y8EO3UlXSjKA",
        "outputId": "73fa908e-5e22-4861-e60e-658a7921a403"
      },
      "execution_count": 34,
      "outputs": [
        {
          "output_type": "stream",
          "name": "stdout",
          "text": [
            "10\n",
            "0.73471557682084\n",
            "11\n",
            "0.732589048378522\n",
            "12\n",
            "0.7340510366826156\n",
            "13\n",
            "0.7317916002126529\n",
            "14\n",
            "0.732589048378522\n"
          ]
        }
      ]
    },
    {
      "cell_type": "code",
      "source": [
        "#Logistic regression\n",
        "from sklearn.preprocessing import StandardScaler\n",
        "from sklearn.linear_model import LogisticRegression\n",
        "\n",
        "test_accuracy = []\n",
        "scaler = StandardScaler()\n",
        "X_scaled = scaler.fit_transform(X_train)\n",
        "\n",
        "classifier = LogisticRegression(max_iter=6)\n",
        "classifier.fit(X_scaled, y_train)\n",
        "test_accuracy = classifier.score(scaler.transform(X_test), y_test)\n",
        "print(test_accuracy)"
      ],
      "metadata": {
        "colab": {
          "base_uri": "https://localhost:8080/"
        },
        "id": "FAstwGcKTIJn",
        "outputId": "a8a506dc-4484-4bb9-cbeb-35ad918f65c0"
      },
      "execution_count": 38,
      "outputs": [
        {
          "output_type": "stream",
          "name": "stdout",
          "text": [
            "0.7091972355130249\n"
          ]
        }
      ]
    },
    {
      "cell_type": "code",
      "source": [],
      "metadata": {
        "id": "rDbW53CRTl4u"
      },
      "execution_count": null,
      "outputs": []
    }
  ]
}