{
  "nbformat": 4,
  "nbformat_minor": 0,
  "metadata": {
    "colab": {
      "provenance": [],
      "authorship_tag": "ABX9TyMH95KuYUir9qxD3kCBKzXd",
      "include_colab_link": true
    },
    "kernelspec": {
      "name": "python3",
      "display_name": "Python 3"
    },
    "language_info": {
      "name": "python"
    }
  },
  "cells": [
    {
      "cell_type": "markdown",
      "metadata": {
        "id": "view-in-github",
        "colab_type": "text"
      },
      "source": [
        "<a href=\"https://colab.research.google.com/github/webrockerz2020/waste_classifcation_traditional_machine_learning/blob/main/waste_classification_ml.ipynb\" target=\"_parent\"><img src=\"https://colab.research.google.com/assets/colab-badge.svg\" alt=\"Open In Colab\"/></a>"
      ]
    },
    {
      "cell_type": "code",
      "execution_count": null,
      "metadata": {
        "colab": {
          "base_uri": "https://localhost:8080/"
        },
        "id": "rAcqKkHFIhsb",
        "outputId": "65580352-36d3-49c0-d788-73f436c5fa8b"
      },
      "outputs": [
        {
          "output_type": "stream",
          "name": "stdout",
          "text": [
            "Drive already mounted at /content/drive/; to attempt to forcibly remount, call drive.mount(\"/content/drive/\", force_remount=True).\n"
          ]
        }
      ],
      "source": [
        "import os\n",
        "import numpy as np\n",
        "import pandas as pd\n",
        "import cv2 as cv\n",
        "from pathlib import Path\n",
        "import warnings\n",
        "from skimage.feature import hog\n",
        "import tqdm\n",
        "from tqdm import tqdm\n",
        "import threading\n",
        "from multiprocessing import Pool\n",
        "import matplotlib.pyplot as plt\n",
        "import math\n",
        "warnings.filterwarnings(\"ignore\")\n",
        "pd.options.display.max_columns = None\n",
        "#Connecting the driver\n",
        "from google.colab import drive\n",
        "drive.mount('/content/drive/')"
      ]
    },
    {
      "cell_type": "code",
      "source": [
        "# Setting all the directories\n",
        "\n",
        "root = '/content/drive/MyDrive/ML/data'\n",
        "#style_file = 'styles.csv'\n",
        "image_folder_train = root + '/train/'\n",
        "image_folder_train_o =image_folder_train + 'O/'\n",
        "image_folder_train_r =image_folder_train + 'R/'"
      ],
      "metadata": {
        "id": "uzwOyDt1InGv"
      },
      "execution_count": null,
      "outputs": []
    },
    {
      "cell_type": "code",
      "source": [
        "# Feature Engineering using HoG\n",
        "def get_all_image_names_and_its_class_to_df(folder_name):\n",
        "    #print(folder_name)\n",
        "    df_local=pd.DataFrame(columns=['id','masterCategory'])\n",
        "    for folder in os.listdir(folder_name):\n",
        "      #print(folder)\n",
        "      if folder != '.DS_Store':\n",
        "            folder_path =os.path.join(folder_name,folder)\n",
        "            #print(folder_path)\n",
        "            temp_df=pd.DataFrame(columns=['id','masterCategory'])\n",
        "            img_list=[]\n",
        "            for img in os.listdir(folder_path):\n",
        "                img_list.append(img)\n",
        "            #print(folder)\n",
        "            temp_df['id'] =img_list\n",
        "            temp_df['masterCategory']= folder\n",
        "            #print(temp_df)\n",
        "            df_local = pd.concat([df_local, temp_df], ignore_index=True)\n",
        "    return df_local\n",
        "\n",
        "# Loading the images\n",
        "def load_image(ids, path):\n",
        "    img = cv.imread(path + ids, cv.IMREAD_GRAYSCALE)\n",
        "    return img, ids\n",
        "\n",
        "def process_image(id_path_tuple):\n",
        "    id, path = id_path_tuple\n",
        "    img, id = load_image(id, path)\n",
        "    if img is not None:\n",
        "        return [img, id]\n",
        "\n",
        "# resizing of images\n",
        "def resize_image(img,ids):\n",
        "    return cv.resize(img, (60, 80),interpolation =cv.INTER_LINEAR) # Tired with 60,80 # tired 60,60 # tired 100 by 100 system crash\n",
        "\n",
        "#bluring the images\n",
        "def hog_to_blur_the_images(image):\n",
        "    ppcr = 8 # tired with 8\n",
        "    ppcc = 8 # Tired with 8\n",
        "    blur = cv.GaussianBlur(image, (5, 5), 0) #kernal size 7,8 checked , # larger kernel more blur\n",
        "    fd, hog_image = hog(blur, orientations=5, pixels_per_cell=(ppcr, ppcc), cells_per_block=(2, 2), block_norm='L2', visualize=True)\n",
        "    return hog_image, fd\n",
        "\n",
        "#get the edges\n",
        "def get_edges(img_list,n_samples):\n",
        "  edges = [cv.Canny(image,50,150,apertureSize = 3) for image in img_list]\n",
        "    #edges = [cv.Canny(image, 30, 90, apertureSize=3) for image in img_lst]\n",
        "\n",
        "  edges = np.array(edges)\n",
        "  #print(edges)\n",
        "  n_samples_edges = len(edges)\n",
        "  edge_images_train = edges.reshape((n_samples, -1))\n",
        "  edge_images_train.shape\n",
        "  return edge_images_train\n",
        "\n",
        "#pixel intensity\n",
        "def get_pixel_intnsity(img_list):\n",
        "  histr_train = [cv.calcHist([img],[0],None,[256],[0,256]) for img in img_list]\n",
        "  histr_train = np.array(histr_train)\n",
        "  n_samples_histr_train = len(histr_train)\n",
        "  image_hist_train = histr_train.reshape((n_samples_histr_train, -1))\n",
        "  image_hist_train.shape\n",
        "  return image_hist_train\n"
      ],
      "metadata": {
        "id": "gRsNYXHqI4In"
      },
      "execution_count": null,
      "outputs": []
    },
    {
      "cell_type": "code",
      "source": [
        "#Multiproessing\n",
        "# Mulitprocessing 1 --> Process Image\n",
        "def create_a_multiprocessing(folder_name,df):\n",
        "    df_ids = list(df.id)\n",
        "    # Create a list of (id, path) tuples\n",
        "    id_path_tuples = [(id, folder_name) for id in df_ids]\n",
        "    # Create a multiprocessing pool\n",
        "    pool = Pool(processes=8)\n",
        "    # Process images in parallel\n",
        "    results = list(tqdm(pool.imap(process_image, id_path_tuples), total=len(df_ids)))\n",
        "    # Close the pool\n",
        "    pool.close()\n",
        "    pool.join()\n",
        "    images= [result for result in results if result is not None]\n",
        "    len(images)\n",
        "    return images\n",
        "\n",
        "# Multiprocessing 2 --> Blurring Image\n",
        "def create_a_multiprocessing_blur(image_lst):\n",
        "    pool = Pool(processes=5)\n",
        "    hog_images, hog_features = zip(*pool.map(hog_to_blur_the_images, image_lst))\n",
        "    pool.close()\n",
        "    pool.join()\n",
        "\n",
        "    hog_features = np.array(hog_features)\n",
        "    return hog_images, hog_features"
      ],
      "metadata": {
        "id": "j2NXEOJrXUYa"
      },
      "execution_count": null,
      "outputs": []
    },
    {
      "cell_type": "code",
      "source": [
        "# Loading all the images\n",
        "df_train = get_all_image_names_and_its_class_to_df(image_folder_train)\n",
        "print(df_train.shape)\n",
        "print(df_train.head(10))\n",
        "print(df_train['masterCategory'].value_counts())"
      ],
      "metadata": {
        "colab": {
          "base_uri": "https://localhost:8080/"
        },
        "id": "8WV0DJApJBgA",
        "outputId": "4945e44d-0962-400a-b930-0e9dc51e1065"
      },
      "execution_count": null,
      "outputs": [
        {
          "output_type": "stream",
          "name": "stdout",
          "text": [
            "(25077, 2)\n",
            "            id masterCategory\n",
            "0  O_13532.jpg              O\n",
            "1  O_13491.jpg              O\n",
            "2  O_12957.jpg              O\n",
            "3  O_12638.jpg              O\n",
            "4  O_13042.jpg              O\n",
            "5  O_13724.jpg              O\n",
            "6  O_13095.jpg              O\n",
            "7  O_13081.jpg              O\n",
            "8  O_13917.jpg              O\n",
            "9  O_12823.jpg              O\n",
            "O    13966\n",
            "R    11111\n",
            "Name: masterCategory, dtype: int64\n"
          ]
        }
      ]
    },
    {
      "cell_type": "code",
      "source": [
        "train_images_o =create_a_multiprocessing(image_folder_train_o,df_train)\n",
        "train_images_r =create_a_multiprocessing(image_folder_train_r,df_train)\n",
        "all_train_images = train_images_o+train_images_r\n",
        "print(\"Length of train images\",len(all_train_images))"
      ],
      "metadata": {
        "colab": {
          "base_uri": "https://localhost:8080/"
        },
        "id": "SfcoeU9CLdbd",
        "outputId": "81991c94-76c0-4457-c090-b83ef1ea462b"
      },
      "execution_count": null,
      "outputs": [
        {
          "output_type": "stream",
          "name": "stderr",
          "text": [
            "100%|██████████| 25077/25077 [01:06<00:00, 379.15it/s] \n",
            "100%|██████████| 25077/25077 [00:45<00:00, 551.85it/s]\n"
          ]
        },
        {
          "output_type": "stream",
          "name": "stdout",
          "text": [
            "Length of train images 25077\n"
          ]
        }
      ]
    },
    {
      "cell_type": "code",
      "source": [
        "all_images_resized_train = [[resize_image(x,y),y] for x,y in all_train_images]\n",
        "df_labels_train = pd.DataFrame(all_images_resized_train,columns=['image','id'])\n"
      ],
      "metadata": {
        "id": "Y99-aj2CL03w"
      },
      "execution_count": null,
      "outputs": []
    },
    {
      "cell_type": "code",
      "source": [
        "# Adding all the labels\n",
        "target = 'masterCategory'\n",
        "df_labels_train = pd.merge(df_labels_train,df_train,how='left',on=['id'])\n",
        "df_labels_train = df_labels_train.fillna('Others')\n",
        "df_labels_train['class'] = pd.factorize(df_labels_train[target])[0]\n",
        "print(\"Data Shape: \", str(df_labels_train.shape))\n",
        "print(df_labels_train[target].value_counts())"
      ],
      "metadata": {
        "colab": {
          "base_uri": "https://localhost:8080/"
        },
        "id": "4BkySq0aP5wx",
        "outputId": "b4a552c4-083c-4d5a-85c3-8178289d6ddc"
      },
      "execution_count": null,
      "outputs": [
        {
          "output_type": "stream",
          "name": "stdout",
          "text": [
            "Data Shape:  (25077, 4)\n",
            "O    13966\n",
            "R    11111\n",
            "Name: masterCategory, dtype: int64\n"
          ]
        }
      ]
    },
    {
      "cell_type": "code",
      "source": [
        "train_images = np.stack(df_labels_train.image.values,axis=0)\n",
        "n_samples_train = len(train_images)\n",
        "print(n_samples_train)\n",
        "data_images_train = train_images.reshape((n_samples_train, -1))"
      ],
      "metadata": {
        "colab": {
          "base_uri": "https://localhost:8080/"
        },
        "id": "kmlsOtEUQDi5",
        "outputId": "f5a7cc63-273f-49af-a361-1f1cb9780416"
      },
      "execution_count": null,
      "outputs": [
        {
          "output_type": "stream",
          "name": "stdout",
          "text": [
            "25077\n"
          ]
        }
      ]
    },
    {
      "cell_type": "code",
      "source": [
        "hog_images_train, hog_features_train = create_a_multiprocessing_blur(train_images)"
      ],
      "metadata": {
        "id": "cd43Pgv9QT-u"
      },
      "execution_count": null,
      "outputs": []
    },
    {
      "cell_type": "code",
      "source": [
        "for img in hog_images_train[:2]:\n",
        "    plt.imshow(img)\n",
        "    plt.show()"
      ],
      "metadata": {
        "colab": {
          "base_uri": "https://localhost:8080/",
          "height": 849
        },
        "id": "qq-RFRM0QWZC",
        "outputId": "2f3a7bcd-c8e0-4b25-ba93-bfc941a131f7"
      },
      "execution_count": null,
      "outputs": [
        {
          "output_type": "display_data",
          "data": {
            "text/plain": [
              "<Figure size 640x480 with 1 Axes>"
            ],
            "image/png": "[encoded data removed]"
          },
          "metadata": {}
        },
        {
          "output_type": "display_data",
          "data": {
            "text/plain": [
              "<Figure size 640x480 with 1 Axes>"
            ],
            "image/png": "[encoded data removed]"
          },
          "metadata": {}
        }
      ]
    },
    {
      "cell_type": "code",
      "source": [
        "#getting the edges\n",
        "edge_images_train = get_edges(train_images,n_samples_train)"
      ],
      "metadata": {
        "id": "VZut55GCRUyj"
      },
      "execution_count": null,
      "outputs": []
    },
    {
      "cell_type": "code",
      "source": [
        "train_images.shape, hog_features_train.shape, edge_images_train.shape\n"
      ],
      "metadata": {
        "colab": {
          "base_uri": "https://localhost:8080/"
        },
        "id": "8HZmvF36RZuD",
        "outputId": "096adda1-e13f-4131-fb81-c5062a941e0e"
      },
      "execution_count": null,
      "outputs": [
        {
          "output_type": "execute_result",
          "data": {
            "text/plain": [
              "((25077, 80, 60), (25077, 1080), (25077, 4800))"
            ]
          },
          "metadata": {},
          "execution_count": 70
        }
      ]
    },
    {
      "cell_type": "code",
      "source": [
        "edge_hog_train = np.hstack([hog_features_train,edge_images_train])\n",
        "edge_hog_train.shape"
      ],
      "metadata": {
        "colab": {
          "base_uri": "https://localhost:8080/"
        },
        "id": "mJ2rNLssReQg",
        "outputId": "05096837-d101-4418-a513-cc135a35a8ae"
      },
      "execution_count": null,
      "outputs": [
        {
          "output_type": "execute_result",
          "data": {
            "text/plain": [
              "(25077, 5880)"
            ]
          },
          "metadata": {},
          "execution_count": 71
        }
      ]
    },
    {
      "cell_type": "code",
      "source": [
        "#getting pixel intensity\n",
        "image_hist_train = get_pixel_intnsity(train_images)\n",
        "image_hist_train.shape"
      ],
      "metadata": {
        "colab": {
          "base_uri": "https://localhost:8080/"
        },
        "id": "IkAmu3HSRg7t",
        "outputId": "89eb133d-e3b9-4e40-8da3-8426aff0ce50"
      },
      "execution_count": null,
      "outputs": [
        {
          "output_type": "execute_result",
          "data": {
            "text/plain": [
              "(25077, 256)"
            ]
          },
          "metadata": {},
          "execution_count": 72
        }
      ]
    },
    {
      "cell_type": "code",
      "source": [
        "# Models\n",
        "from sklearn.model_selection import train_test_split\n",
        "X_train, X_test, y_train, y_test = train_test_split(hog_features_train, df_train['masterCategory'], test_size=0.3, random_state=2)"
      ],
      "metadata": {
        "id": "hQ7Rxn2KRjlJ"
      },
      "execution_count": null,
      "outputs": []
    },
    {
      "cell_type": "code",
      "source": [
        "print(X_train.shape, y_train.shape)\n",
        "print(X_test.shape, y_test.shape)"
      ],
      "metadata": {
        "colab": {
          "base_uri": "https://localhost:8080/"
        },
        "id": "HOoAbp4URyzp",
        "outputId": "059183d9-21a0-4128-c0be-ab5a7ed9e45e"
      },
      "execution_count": null,
      "outputs": [
        {
          "output_type": "stream",
          "name": "stdout",
          "text": [
            "(17553, 1080) (17553,)\n",
            "(7524, 1080) (7524,)\n"
          ]
        }
      ]
    },
    {
      "cell_type": "code",
      "source": [
        "y_train.value_counts()"
      ],
      "metadata": {
        "colab": {
          "base_uri": "https://localhost:8080/"
        },
        "id": "ypBmd3CRSHPF",
        "outputId": "747cd853-5b56-4e07-8a81-d0e8b4814dd1"
      },
      "execution_count": null,
      "outputs": [
        {
          "output_type": "execute_result",
          "data": {
            "text/plain": [
              "O    9774\n",
              "R    7779\n",
              "Name: masterCategory, dtype: int64"
            ]
          },
          "metadata": {},
          "execution_count": 75
        }
      ]
    },
    {
      "cell_type": "code",
      "source": [
        "#KNN\n",
        "from sklearn import datasets, svm, metrics\n",
        "from sklearn.neighbors import KNeighborsClassifier\n",
        "from sklearn import metrics"
      ],
      "metadata": {
        "id": "t3TOABlFSYPj"
      },
      "execution_count": null,
      "outputs": []
    },
    {
      "cell_type": "code",
      "source": [
        "from sklearn.preprocessing import StandardScaler\n",
        "#from sklearn.ensemble import RandomForestClassifier\n",
        "\n",
        "test_accuracy = []\n",
        "scaler = StandardScaler()\n",
        "X_scaled = scaler.fit_transform(X_train)\n",
        "\n",
        "for i in range(3,10):\n",
        "  print(i)\n",
        "  classifier = KNeighborsClassifier(n_neighbors=i,algorithm='brute')\n",
        "  classifier.fit(X_scaled, y_train)\n",
        "  test_accuracy = classifier.score(scaler.transform(X_test), y_test)\n",
        "  print(test_accuracy)"
      ],
      "metadata": {
        "colab": {
          "base_uri": "https://localhost:8080/"
        },
        "id": "RsLP-X8sSgIq",
        "outputId": "8892348a-c0ba-486b-b393-d4b93cfb3278"
      },
      "execution_count": null,
      "outputs": [
        {
          "output_type": "stream",
          "name": "stdout",
          "text": [
            "3\n",
            "0.7167729930887826\n",
            "4\n",
            "0.718367889420521\n",
            "5\n",
            "0.7207602339181286\n",
            "6\n",
            "0.7272727272727273\n",
            "7\n",
            "0.732589048378522\n",
            "8\n",
            "0.7341839447102605\n",
            "9\n",
            "0.7359117490696439\n"
          ]
        }
      ]
    },
    {
      "cell_type": "code",
      "source": [
        "for i in range(10,15):\n",
        "  print(i)\n",
        "  classifier = KNeighborsClassifier(n_neighbors=i,algorithm='brute')\n",
        "  classifier.fit(X_scaled, y_train)\n",
        "  test_accuracy = classifier.score(scaler.transform(X_test), y_test)\n",
        "  print(test_accuracy)"
      ],
      "metadata": {
        "colab": {
          "base_uri": "https://localhost:8080/"
        },
        "id": "Y8EO3UlXSjKA",
        "outputId": "e2c3d00d-3f1f-4d4e-d26b-a0f06acd3b78"
      },
      "execution_count": null,
      "outputs": [
        {
          "output_type": "stream",
          "name": "stdout",
          "text": [
            "10\n",
            "0.7331206804891015\n",
            "11\n",
            "0.736709197235513\n",
            "12\n",
            "0.7341839447102605\n",
            "13\n",
            "0.73471557682084\n",
            "14\n",
            "0.7368421052631579\n"
          ]
        }
      ]
    },
    {
      "cell_type": "code",
      "source": [
        "#Logistic regression\n",
        "from sklearn.preprocessing import StandardScaler\n",
        "from sklearn.linear_model import LogisticRegression\n",
        "\n",
        "test_accuracy = []\n",
        "scaler = StandardScaler()\n",
        "X_scaled = scaler.fit_transform(X_train)\n",
        "\n",
        "classifier = LogisticRegression(max_iter=20)\n",
        "classifier.fit(X_scaled, y_train)\n",
        "test_accuracy = classifier.score(scaler.transform(X_test), y_test)\n",
        "print(test_accuracy)"
      ],
      "metadata": {
        "colab": {
          "base_uri": "https://localhost:8080/"
        },
        "id": "FAstwGcKTIJn",
        "outputId": "2b62e198-a212-474e-f805-231dd4fe9f3b"
      },
      "execution_count": null,
      "outputs": [
        {
          "output_type": "stream",
          "name": "stdout",
          "text": [
            "0.726475279106858\n"
          ]
        }
      ]
    },
    {
      "cell_type": "code",
      "source": [],
      "metadata": {
        "id": "rDbW53CRTl4u"
      },
      "execution_count": null,
      "outputs": []
    }
  ]
}